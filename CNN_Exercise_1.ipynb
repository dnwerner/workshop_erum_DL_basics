{
  "cells": [
    {
      "cell_type": "markdown",
      "metadata": {
        "id": "H7Z7pl_YN9KK"
      },
      "source": [
        "# CNN Exercise 1: Rebuilding LeNet"
      ]
    },
    {
      "cell_type": "markdown",
      "metadata": {
        "id": "dahpSd3BN9KN"
      },
      "source": [
        "Created by Cedric Ewen in 2023\n",
        "\n",
        "Credits to Bogdan Wiederspan who inspired this exercise with his exercice from the last years deep learning school and to [this blog post](https://medium.com/@nutanbhogendrasharma/pytorch-convolutional-neural-network-with-mnist-dataset-4e8a4265e118) that gave a good baseline for the exercise.\n",
        "Thanks to Github Copilot for writing the description of this exercise."
      ]
    },
    {
      "cell_type": "markdown",
      "metadata": {
        "id": "xYmn0uZxN9KP"
      },
      "source": [
        "# History\n",
        "Machine learning is a topic that is researched for quite a long time. Biggest problem in the past was the lack of computational ressources. Especially image recognition was terrible in this department, since the analyzation of pictures needed huge feed-forward-networks (bad scaling of parameter numbers).\n",
        "\n",
        "Feed-forward-networks are a bad choice to analyze images, since the learned mapping is not translation-invariant. This means, that the network could not recognize for example a deer, when the deer was not centered.\n",
        "\n",
        "LeNet-5 was one of the earliest convolutional neural networks and promoted the development of deep learning. The main benefit of convolutional networks is their invariance in translation. The other benefit of this approach is the reduction of learnable parameters by introduction of convolutions.\n",
        "\n",
        "We will recreate the LeNet-5 network to train a model on MNIST dataset!"
      ]
    },
    {
      "cell_type": "code",
      "execution_count": 1,
      "metadata": {
        "id": "4qXmdFQ2N9KQ"
      },
      "outputs": [],
      "source": [
        "# basic imports\n",
        "import torch\n",
        "import matplotlib.pyplot as plt"
      ]
    },
    {
      "cell_type": "code",
      "execution_count": 2,
      "metadata": {
        "id": "9L0nv-kdN9KS",
        "outputId": "15e99252-bb00-4404-ccc6-ce3e1bbefa4e",
        "colab": {
          "base_uri": "https://localhost:8080/"
        }
      },
      "outputs": [
        {
          "output_type": "execute_result",
          "data": {
            "text/plain": [
              "device(type='cuda')"
            ]
          },
          "metadata": {},
          "execution_count": 2
        }
      ],
      "source": [
        "# device configuration\n",
        "device = torch.device('cuda' if torch.cuda.is_available() else 'cpu')\n",
        "device"
      ]
    },
    {
      "cell_type": "markdown",
      "metadata": {
        "id": "56UNjo3oN9KU"
      },
      "source": [
        "# The dataset"
      ]
    },
    {
      "cell_type": "markdown",
      "metadata": {
        "id": "H3xT4DgdN9KU"
      },
      "source": [
        "The MNIST (Modified National Institute of Standards and Technology database) dataset is a set of 70,000 small images of digits handwritten by high school students and employees of the US Census Bureau. Each image is labeled with the digit it represents. This set has been studied so much that it is often called the \"Hello World\" of Machine Learning. Whenever people come up with a new classification algorithm they are curious to see how it will perform on MNIST, and anyone who learns Machine Learning tackles this dataset sooner or later.\n",
        "\n",
        "PyTorch provides a number of datasets in torchvison.datasets. We will download the MNIST dataset from there. The following code downloads the MNIST dataset, and creates a training and test dataset. The training dataset contains 60,000 images and the test dataset contains 10,000 images. Each image is a 28x28 grayscale image."
      ]
    },
    {
      "cell_type": "code",
      "execution_count": 3,
      "metadata": {
        "id": "sdeRlO-IN9KV",
        "outputId": "214a502b-e33c-421c-81f7-5eb2a578554c",
        "colab": {
          "base_uri": "https://localhost:8080/"
        }
      },
      "outputs": [
        {
          "output_type": "stream",
          "name": "stderr",
          "text": [
            "100%|██████████| 9.91M/9.91M [00:00<00:00, 17.6MB/s]\n",
            "100%|██████████| 28.9k/28.9k [00:00<00:00, 477kB/s]\n",
            "100%|██████████| 1.65M/1.65M [00:00<00:00, 4.40MB/s]\n",
            "100%|██████████| 4.54k/4.54k [00:00<00:00, 5.70MB/s]\n"
          ]
        }
      ],
      "source": [
        "from torchvision import datasets\n",
        "from torchvision.transforms import ToTensor\n",
        "train_data = datasets.MNIST(\n",
        "    root = 'data',\n",
        "    train = True,\n",
        "    transform = ToTensor(),\n",
        "    download = True,\n",
        ")\n",
        "test_data = datasets.MNIST(\n",
        "    root = 'data',\n",
        "    train = False,\n",
        "    transform = ToTensor()\n",
        ")"
      ]
    },
    {
      "cell_type": "markdown",
      "metadata": {
        "id": "-3P0K0GbN9KW"
      },
      "source": [
        "It is important to first get a feeling for the data. Therefore, we will first plot some of the images and their corresponding labels.\n",
        "\n",
        "We also have a look on the shape of the data. The shape of the data is important for the design of the network. In the following cell, one can see that the shape is (60000, 28, 28). This means that we have 60000 images of size 28x28 pixels. The images are grayscale, meaning that they have only one color channel. If the images were RGB images, the shape would be (60000, 28, 28, 3)."
      ]
    },
    {
      "cell_type": "code",
      "execution_count": 4,
      "metadata": {
        "id": "4gnfmVI9N9KY",
        "outputId": "4733fe7f-55ea-4880-a044-0c29378104d0",
        "colab": {
          "base_uri": "https://localhost:8080/"
        }
      },
      "outputs": [
        {
          "output_type": "stream",
          "name": "stdout",
          "text": [
            "Shape of training data: torch.Size([60000, 28, 28])\n",
            "Shape of test data: torch.Size([10000, 28, 28])\n"
          ]
        }
      ],
      "source": [
        "print(f\"Shape of training data: {train_data.data.size()}\")\n",
        "print(f\"Shape of test data: {test_data.data.size()}\")"
      ]
    },
    {
      "cell_type": "code",
      "execution_count": 5,
      "metadata": {
        "id": "-sFrzD_-N9KZ",
        "outputId": "b6a0f785-da90-4852-a79b-d3b037edab4f",
        "colab": {
          "base_uri": "https://localhost:8080/",
          "height": 675
        }
      },
      "outputs": [
        {
          "output_type": "display_data",
          "data": {
            "text/plain": [
              "<Figure size 1000x800 with 25 Axes>"
            ],
            "image/png": "[encoded data removed]"
          },
          "metadata": {}
        }
      ],
      "source": [
        "figure = plt.figure(figsize=(10, 8))\n",
        "cols, rows = 5, 5\n",
        "for i in range(1, cols * rows + 1):\n",
        "    sample_idx = torch.randint(len(train_data), size=(1,)).item()\n",
        "    img, label = train_data[sample_idx]\n",
        "    figure.add_subplot(rows, cols, i)\n",
        "    plt.title(label)\n",
        "    plt.axis(\"off\")\n",
        "    plt.imshow(img.squeeze(), cmap=\"gray\")\n",
        "plt.show()"
      ]
    },
    {
      "cell_type": "markdown",
      "metadata": {
        "id": "QsB24rTwN9Ka"
      },
      "source": [
        "During training, we usually want to pass samples in 'minibatches', so small subsets of the training dataset, instead of passing all the training data at once. This is because passing all the training data through the network at once is computationally expensive, and it is also more difficult for the network to learn from all the training data at once. The number of samples in a minibatch is called the 'batch size'. The batch size is a hyperparameter that we can tune to make the network learn better. The batch size is usually a power of 2, e.g. 32, 64, 128, 256, 512, etc. to optimally utilize the hardware. In this exercise, we will use a batch size of 64.\n",
        "\n",
        "In pytorch, a dataloader is an object that can be used to pass minibatches of data to the network. We can create a dataloader from a dataset object. The dataloader will automatically split the dataset into minibatches of the specified batch size. We can then iterate over the dataloader to get minibatches of data. The dataloader will automatically shuffle the data at the start of each epoch (an epoch is a full pass through the training data)."
      ]
    },
    {
      "cell_type": "code",
      "execution_count": 6,
      "metadata": {
        "id": "UpfGqQ-9N9Kb"
      },
      "outputs": [],
      "source": [
        "from torch.utils.data import DataLoader\n",
        "loaders = {\n",
        "    'train' : torch.utils.data.DataLoader(train_data,\n",
        "                                          batch_size=64,\n",
        "                                          shuffle=True,\n",
        "                                          num_workers=1),\n",
        "\n",
        "    'test'  : torch.utils.data.DataLoader(test_data,\n",
        "                                          batch_size=64,\n",
        "                                          shuffle=True,\n",
        "                                          num_workers=1),\n",
        "}"
      ]
    },
    {
      "cell_type": "markdown",
      "metadata": {
        "id": "vEkKQmyKN9Kc"
      },
      "source": [
        "# The Architecture"
      ]
    },
    {
      "cell_type": "markdown",
      "metadata": {
        "id": "A6lMIAS_N9Kc"
      },
      "source": [
        "We will now recreate one of the first convolutional neural networks, LeNet-5, which was introduced by Yann LeCun et al. in 1998. This network was used to classify handwritten digits of the MNIST dataset. The network consists of two convolutional layers, two pooling layers and three fully connected layers. The network architecture is shown below.\n",
        "![image.png](attachment:4e5f43fc-a56f-4ea6-b0ee-9a8cfe3a407c.png)\n",
        "On the right, we see a much more advanced version of the LeNet-5, called AlexNet. Its quite interesting how similar, but yet so different they are.\n",
        "AlexNet is much more advanced than the plain old LeNet.\n",
        "\n",
        "Could you think of some reasons why:\n",
        "- they changed all sigmoid functions to ReLu\n",
        "- they changed the Pooling from average to max\n",
        "- they use 3 conv-layers with small window size insted of one with bigger kernel size\n"
      ]
    },
    {
      "cell_type": "markdown",
      "metadata": {
        "id": "TEptsf8MN9Kd"
      },
      "source": [
        "In general Conv-networks can be separated into 2 blocks:\n",
        "- conv-part (filters)\n",
        "- fully connected network\n",
        "\n",
        "In the convolutional-part of the network filters are trained to detect different propeties. They workout the different features of the image. These processed information are then used as input of a fully connected network to classify the input."
      ]
    },
    {
      "cell_type": "markdown",
      "metadata": {
        "id": "5MfG0fOHN9Kd"
      },
      "source": [
        "## Build LeNet-5 with PyTorch:\n",
        "Lets build the model. We start with a Python class that inherits from nn.Module. In the init function we define the layers of the network. In the forward function we define the forward pass of the network.\n",
        "\n",
        "A list of possible layers can be found [here](https://pytorch.org/docs/stable/nn.html).\n",
        "\n",
        "By looking at the Picture of LeNet [here](https://upload.wikimedia.org/wikipedia/commons/c/cc/Comparison_image_neural_networks.svg) (left), we need a ***Linear Layer, a Pooling Layer*** and atleast some kind of ***ConvND*** layer (which Dimension? Remember your input data shape!).\n"
      ]
    },
    {
      "cell_type": "markdown",
      "metadata": {
        "id": "iFdGLACcN9Ke"
      },
      "source": [
        "To help you a little in building the network the start and end is already given. Compare the code of the layer with the Image of LeNet to get a better understand what they do!\n",
        "\n",
        "Try to answer the following questions while learning how to use PyTorch. PyTorch error messanges help you to understand whats happening, but also the ```print(model)``` and the ```torchsummary.summary``` commands.\n",
        "- Which properties do the layer types have and what do they do?\n",
        "- Why do we flatten the output?\n",
        "- What is the shape after flatten?\n",
        "- What work is done by the dense layers?\n",
        "- Where do the weights come from? How can one calculate the number of weights in a layer?"
      ]
    },
    {
      "cell_type": "code",
      "execution_count": 38,
      "metadata": {
        "id": "HDBTw6fuN9Ke"
      },
      "outputs": [],
      "source": [
        "import torch.nn as nn\n",
        "import torch.nn.functional as F\n",
        "class CNN(nn.Module):\n",
        "  def __init__(self):\n",
        "    super(CNN, self).__init__()\n",
        "        #TODO: define the layers\n",
        "    self.conv1 = nn.Conv2d(in_channels=1, out_channels=6,  kernel_size=5, stride=1, padding=2)\n",
        "    self.conv2 = nn.Conv2d(in_channels=6, out_channels=16, kernel_size=5, stride=1, padding=0)\n",
        "    self.pooling1 = nn.AvgPool2d(kernel_size=2, stride=2, padding=0)\n",
        "    self.pooling2 = nn.AvgPool2d(kernel_size=2, stride=2, padding=0)\n",
        "\n",
        "    self.fully_connected1 = nn.Linear(in_features=5*5*16, out_features=120)\n",
        "    self.fully_connected2 = nn.Linear(in_features=120, out_features=84)\n",
        "    self.fully_connected3 = nn.Linear(in_features=84,out_features=10)\n",
        "\n",
        "  def forward(self, x):\n",
        "      # Pass data through conv1\n",
        "    x = self.conv1(x)\n",
        "    x = F.sigmoid(x)\n",
        "    x = self.pooling1(x)\n",
        "\n",
        "    x = self.conv2(x)\n",
        "    x = F.sigmoid(x)\n",
        "    x = self.pooling2(x)\n",
        "\n",
        "    x = torch.flatten(x, 1)\n",
        "    x = self.fully_connected1(x)\n",
        "\n",
        "    x = torch.sigmoid(x)\n",
        "    x = self.fully_connected2(x)\n",
        "    x = torch.sigmoid(x)\n",
        "\n",
        "    x = self.fully_connected3(x)\n",
        "\n",
        "    output=x\n",
        "    return output\n"
      ]
    },
    {
      "cell_type": "code",
      "source": [
        "import torch.nn as nn\n",
        "import torch.nn.functional as F\n",
        "class CNN(nn.Module):\n",
        "  def __init__(self):\n",
        "    super(CNN, self).__init__()\n",
        "        #TODO: define the layers\n",
        "    self.conv1 = nn.Conv2d(in_channels=1, out_channels=8,  kernel_size=5, stride=1, padding=2)\n",
        "    self.conv2 = nn.Conv2d(in_channels=8, out_channels=16, kernel_size=5, stride=1, padding=0)\n",
        "    self.pooling1 = nn.AvgPool2d(kernel_size=2, stride=2, padding=0)\n",
        "    self.pooling2 = nn.AvgPool2d(kernel_size=2, stride=2, padding=0)\n",
        "\n",
        "    self.fully_connected1 = nn.Linear(in_features=5*5*16, out_features=140)\n",
        "    self.fully_connected2 = nn.Linear(in_features=140, out_features=84)\n",
        "    self.fully_connected3 = nn.Linear(in_features=84,out_features=10)\n",
        "\n",
        "  def forward(self, x):\n",
        "      # Pass data through conv1\n",
        "    x = self.conv1(x)\n",
        "    x = F.sigmoid(x)\n",
        "    x = self.pooling1(x)\n",
        "\n",
        "    x = self.conv2(x)\n",
        "    x = F.sigmoid(x)\n",
        "    x = self.pooling2(x)\n",
        "\n",
        "    x = torch.flatten(x, 1)\n",
        "    x = self.fully_connected1(x)\n",
        "\n",
        "    x = torch.sigmoid(x)\n",
        "    x = self.fully_connected2(x)\n",
        "    x = torch.sigmoid(x)\n",
        "\n",
        "    x = self.fully_connected3(x)\n",
        "\n",
        "    output=x\n",
        "    return output"
      ],
      "metadata": {
        "id": "wktYJN-tSbRB"
      },
      "execution_count": 66,
      "outputs": []
    },
    {
      "cell_type": "code",
      "execution_count": 67,
      "metadata": {
        "id": "d3NxxtwJN9Kf",
        "outputId": "6a32a644-3113-4166-e5cc-f5c96e0add7b",
        "colab": {
          "base_uri": "https://localhost:8080/"
        }
      },
      "outputs": [
        {
          "output_type": "stream",
          "name": "stdout",
          "text": [
            "CNN(\n",
            "  (conv1): Conv2d(1, 8, kernel_size=(5, 5), stride=(1, 1), padding=(2, 2))\n",
            "  (conv2): Conv2d(8, 16, kernel_size=(5, 5), stride=(1, 1))\n",
            "  (pooling1): AvgPool2d(kernel_size=2, stride=2, padding=0)\n",
            "  (pooling2): AvgPool2d(kernel_size=2, stride=2, padding=0)\n",
            "  (fully_connected1): Linear(in_features=400, out_features=140, bias=True)\n",
            "  (fully_connected2): Linear(in_features=140, out_features=84, bias=True)\n",
            "  (fully_connected3): Linear(in_features=84, out_features=10, bias=True)\n",
            ")\n"
          ]
        }
      ],
      "source": [
        "cnn = CNN()\n",
        "print(cnn)  # list the layers you defined"
      ]
    },
    {
      "cell_type": "code",
      "execution_count": 69,
      "metadata": {
        "id": "QB3cxcqON9Kg",
        "outputId": "36288176-e061-4a3f-c1d6-8c0b8f2c8027",
        "colab": {
          "base_uri": "https://localhost:8080/"
        }
      },
      "outputs": [
        {
          "output_type": "stream",
          "name": "stdout",
          "text": [
            "----------------------------------------------------------------\n",
            "        Layer (type)               Output Shape         Param #\n",
            "================================================================\n",
            "            Conv2d-1            [64, 8, 28, 28]             208\n",
            "         AvgPool2d-2            [64, 8, 14, 14]               0\n",
            "            Conv2d-3           [64, 16, 10, 10]           3,216\n",
            "         AvgPool2d-4             [64, 16, 5, 5]               0\n",
            "            Linear-5                  [64, 140]          56,140\n",
            "            Linear-6                   [64, 84]          11,844\n",
            "            Linear-7                   [64, 10]             850\n",
            "================================================================\n",
            "Total params: 72,258\n",
            "Trainable params: 72,258\n",
            "Non-trainable params: 0\n",
            "----------------------------------------------------------------\n",
            "Input size (MB): 0.19\n",
            "Forward/backward pass size (MB): 4.92\n",
            "Params size (MB): 0.28\n",
            "Estimated Total Size (MB): 5.39\n",
            "----------------------------------------------------------------\n"
          ]
        }
      ],
      "source": [
        "from torchsummary import summary\n",
        "\n",
        "summary(cnn, (1, 28, 28), batch_size=64, device='cpu')  # if you get an error here, the number of neurons, number of channels,kernel size or padding might be wrong."
      ]
    },
    {
      "cell_type": "markdown",
      "metadata": {
        "id": "QAVMhZrwN9Kh"
      },
      "source": [
        "# Training"
      ]
    },
    {
      "cell_type": "markdown",
      "metadata": {
        "id": "SYHWK040N9Ki"
      },
      "source": [
        "Now that we have the model, we can train it. We will use the Adam optimizer, which is a popular optimizer along with SGD (Stochastic Gradient Descent). We will also use the cross entropy loss function, which is the most common loss function for classification problems."
      ]
    },
    {
      "cell_type": "code",
      "execution_count": 70,
      "metadata": {
        "id": "-3Ec_kuvN9Ki",
        "outputId": "513a0842-2f8a-482a-8dad-b14c9e7ac2ff",
        "colab": {
          "base_uri": "https://localhost:8080/"
        }
      },
      "outputs": [
        {
          "output_type": "execute_result",
          "data": {
            "text/plain": [
              "CrossEntropyLoss()"
            ]
          },
          "metadata": {},
          "execution_count": 70
        }
      ],
      "source": [
        "loss_func = nn.CrossEntropyLoss()\n",
        "loss_func"
      ]
    },
    {
      "cell_type": "code",
      "execution_count": 71,
      "metadata": {
        "id": "vT4bc6k9Oi1D"
      },
      "outputs": [],
      "source": [
        "# move model to GPU\n",
        "cnn = cnn.to(device)"
      ]
    },
    {
      "cell_type": "code",
      "execution_count": 72,
      "metadata": {
        "id": "FZNJ04uVN9Kj",
        "outputId": "674a3261-bea9-4ad9-9bcc-04d0cd7d0b5c",
        "colab": {
          "base_uri": "https://localhost:8080/"
        }
      },
      "outputs": [
        {
          "output_type": "execute_result",
          "data": {
            "text/plain": [
              "Adam (\n",
              "Parameter Group 0\n",
              "    amsgrad: False\n",
              "    betas: (0.9, 0.999)\n",
              "    capturable: False\n",
              "    differentiable: False\n",
              "    eps: 1e-08\n",
              "    foreach: None\n",
              "    fused: None\n",
              "    lr: 0.01\n",
              "    maximize: False\n",
              "    weight_decay: 0\n",
              ")"
            ]
          },
          "metadata": {},
          "execution_count": 72
        }
      ],
      "source": [
        "from torch import optim\n",
        "optimizer = optim.Adam(cnn.parameters(), lr = 0.01)\n",
        "optimizer"
      ]
    },
    {
      "cell_type": "markdown",
      "metadata": {
        "id": "ayeBbCCUN9Kk"
      },
      "source": [
        "Now we can implement a train method that will train the model. It takes as input the number of epochs, the model and the dataloader."
      ]
    },
    {
      "cell_type": "code",
      "execution_count": null,
      "metadata": {
        "id": "ZzvDe5EtN9Kk",
        "outputId": "565fb99f-53c8-4c1e-b02a-839abce52b38",
        "colab": {
          "base_uri": "https://localhost:8080/"
        }
      },
      "outputs": [
        {
          "output_type": "stream",
          "name": "stderr",
          "text": [
            " 17%|█▋        | 2/12 [00:20<01:41, 10.15s/it]"
          ]
        }
      ],
      "source": [
        "from tqdm import tqdm\n",
        "\n",
        "def train(num_epochs, cnn, loaders):\n",
        "\n",
        "    # Train the model\n",
        "    cnn.train()\n",
        "    for epoch in tqdm(range(num_epochs)):\n",
        "        for i, (images, labels) in enumerate(loaders['train']):\n",
        "            # move data to GPU\n",
        "            images = images.to(device)\n",
        "            labels = labels.to(device)\n",
        "            # run model\n",
        "            output = cnn(images)\n",
        "            # compute loss function\n",
        "            loss = loss_func(output, labels)\n",
        "            # clear gradients for this training step\n",
        "            optimizer.zero_grad()\n",
        "            # backpropagation, compute gradients\n",
        "            loss.backward()\n",
        "            # apply update\n",
        "            optimizer.step()\n",
        "\n",
        "num_epochs = 12\n",
        "train(num_epochs, cnn, loaders)\n",
        "#train_losses, val_losses, train_accuracy, val_accuracy = train(num_epochs, cnn, loaders)  # if you log metrices in the training loop you get them here. (We will do this in exercise 2)"
      ]
    },
    {
      "cell_type": "markdown",
      "metadata": {
        "id": "E1JWHUXEN9Kk"
      },
      "source": [
        "To check the performance of our network, we can run a prediction on our test data and check if the events are categorised correctly."
      ]
    },
    {
      "cell_type": "code",
      "execution_count": 63,
      "metadata": {
        "id": "lSPZE9xDN9Kl"
      },
      "outputs": [],
      "source": [
        "def test(cnn, loaders):\n",
        "    test_prediction_list = []\n",
        "    test_label_list = []\n",
        "    # Test the model\n",
        "    cnn.eval()\n",
        "    with torch.no_grad():\n",
        "        for images, labels in loaders['test']:\n",
        "            images = images.to(device)\n",
        "            labels = labels.to(device)\n",
        "            test_output = cnn(images)\n",
        "            pred_labels = torch.max(test_output, dim=1)[1]\n",
        "            test_prediction_list.append(pred_labels)\n",
        "            test_label_list.append(labels)\n",
        "    test_label = torch.cat(test_label_list)\n",
        "    test_prediction = torch.cat(test_prediction_list)\n",
        "    return test_label.cpu(), test_prediction.cpu()\n",
        "\n",
        "test_label, test_prediction = test(cnn, loaders)\n",
        "\n",
        "# Compute Accuracy, Precision, Recall:"
      ]
    },
    {
      "cell_type": "code",
      "execution_count": 64,
      "metadata": {
        "id": "YeDhqDV5N9Kl",
        "outputId": "06975940-a34f-4635-8c50-0ae7dfc84e44",
        "colab": {
          "base_uri": "https://localhost:8080/"
        }
      },
      "outputs": [
        {
          "output_type": "stream",
          "name": "stdout",
          "text": [
            "Predicted label: 1, True label: 8; Prediction is incorrect\n",
            "Predicted label: 1, True label: 1; Prediction is correct\n",
            "Predicted label: 1, True label: 8; Prediction is incorrect\n",
            "Predicted label: 1, True label: 4; Prediction is incorrect\n",
            "Predicted label: 1, True label: 2; Prediction is incorrect\n",
            "Predicted label: 1, True label: 3; Prediction is incorrect\n",
            "Predicted label: 1, True label: 6; Prediction is incorrect\n",
            "Predicted label: 1, True label: 0; Prediction is incorrect\n",
            "Predicted label: 1, True label: 0; Prediction is incorrect\n",
            "Predicted label: 1, True label: 3; Prediction is incorrect\n"
          ]
        }
      ],
      "source": [
        "for i, label in enumerate(test_label[:10]):\n",
        "    print(f\"Predicted label: {test_prediction[i]}, True label: {label}; Prediction is {'correct' if test_prediction[i] == label else 'incorrect'}\")"
      ]
    },
    {
      "cell_type": "code",
      "source": [
        "from sklearn.metrics import confusion_matrix, ConfusionMatrixDisplay\n",
        "\n",
        "# Create confusion matrix and normalizes it over predicted (columns)\n",
        "confusion = confusion_matrix(test_label.numpy(), test_prediction.numpy(), normalize='pred')\n",
        "\n",
        "# Accuracy, Recall, Precision\n",
        "from sklearn.metrics import accuracy_score, recall_score, precision_score\n",
        "accuracy_score = accuracy_score(test_label.numpy(), test_prediction.numpy())\n",
        "recall_score = recall_score(test_label.numpy(), test_prediction.numpy(), average='macro')\n",
        "precision_score = precision_score(test_label.numpy(), test_prediction.numpy(), average='macro')\n",
        "\n",
        "print(f\"Accuracy: {accuracy_score}\")\n",
        "print(f\"Recall: {recall_score}\")\n",
        "print(f\"Precision: {precision_score}\")\n",
        "\n",
        "# Create a plot of the confusion matrix\n",
        "fig, ax = plt.subplots(figsize=(15, 7))\n",
        "ConfusionMatrixDisplay(confusion).plot(ax=ax)\n",
        "plt.show()"
      ],
      "metadata": {
        "id": "P1lFfoYSSWJh",
        "outputId": "c9c080b1-7456-4075-80aa-d179edf4355c",
        "colab": {
          "base_uri": "https://localhost:8080/",
          "height": 731
        }
      },
      "execution_count": 65,
      "outputs": [
        {
          "output_type": "stream",
          "name": "stderr",
          "text": [
            "/usr/local/lib/python3.11/dist-packages/sklearn/metrics/_classification.py:1565: UndefinedMetricWarning: Precision is ill-defined and being set to 0.0 in labels with no predicted samples. Use `zero_division` parameter to control this behavior.\n",
            "  _warn_prf(average, modifier, f\"{metric.capitalize()} is\", len(result))\n"
          ]
        },
        {
          "output_type": "stream",
          "name": "stdout",
          "text": [
            "Accuracy: 0.1135\n",
            "Recall: 0.1\n",
            "Precision: 0.01135\n"
          ]
        },
        {
          "output_type": "display_data",
          "data": {
            "text/plain": [
              "<Figure size 1500x700 with 2 Axes>"
            ],
            "image/png": "[encoded data removed]"
          },
          "metadata": {}
        }
      ]
    },
    {
      "cell_type": "markdown",
      "metadata": {
        "id": "apO4nKlFN9Km"
      },
      "source": [
        "We can use [sklearn.metrics] to take a more detailed look into the performance, e.g. via creating a confusion matrix.\n",
        "\n",
        "[sklearn.metrics]: https://scikit-learn.org/stable/modules/classes.html#sklearn-metrics-metrics"
      ]
    },
    {
      "cell_type": "code",
      "execution_count": 52,
      "metadata": {
        "id": "p60b7PwPN9Km",
        "outputId": "aea94d39-2884-4104-c701-193c6bdc22ad",
        "colab": {
          "base_uri": "https://localhost:8080/",
          "height": 674
        }
      },
      "outputs": [
        {
          "output_type": "stream",
          "name": "stdout",
          "text": [
            "Accuracy: 0.9872\n",
            "Recall: 0.9870300056023551\n",
            "Precision: 0.9873606909725229\n"
          ]
        },
        {
          "output_type": "display_data",
          "data": {
            "text/plain": [
              "<Figure size 1500x700 with 2 Axes>"
            ],
            "image/png": "[encoded data removed]"
          },
          "metadata": {}
        }
      ],
      "source": [
        "from sklearn.metrics import confusion_matrix, ConfusionMatrixDisplay\n",
        "\n",
        "# Create confusion matrix and normalizes it over predicted (columns)\n",
        "confusion = confusion_matrix(test_label.numpy(), test_prediction.numpy(), normalize='pred')\n",
        "\n",
        "# Accuracy, Recall, Precision\n",
        "from sklearn.metrics import accuracy_score, recall_score, precision_score\n",
        "accuracy_score = accuracy_score(test_label.numpy(), test_prediction.numpy())\n",
        "recall_score = recall_score(test_label.numpy(), test_prediction.numpy(), average='macro')\n",
        "precision_score = precision_score(test_label.numpy(), test_prediction.numpy(), average='macro')\n",
        "\n",
        "print(f\"Accuracy: {accuracy_score}\")\n",
        "print(f\"Recall: {recall_score}\")\n",
        "print(f\"Precision: {precision_score}\")\n",
        "\n",
        "# Create a plot of the confusion matrix\n",
        "fig, ax = plt.subplots(figsize=(15, 7))\n",
        "ConfusionMatrixDisplay(confusion).plot(ax=ax)\n",
        "plt.show()"
      ]
    },
    {
      "cell_type": "markdown",
      "metadata": {
        "id": "_2p5J5vwN9Kn"
      },
      "source": [
        "How can one improve the networks scores? We can add more Conv oder Dense layers to strenghten one part of your network! More Dense layers will increase your classification power, while more Conv layers will increase your propety filter power.\n",
        "We might also want to prevent overtraining, e.g. via including some Dropout layers.\n",
        "\n",
        "\n",
        "How small can you make the network without harming the performance?"
      ]
    }
  ],
  "metadata": {
    "accelerator": "GPU",
    "colab": {
      "provenance": []
    },
    "kernelspec": {
      "display_name": "Python 3 (ipykernel)",
      "language": "python",
      "name": "python3"
    },
    "language_info": {
      "codemirror_mode": {
        "name": "ipython",
        "version": 3
      },
      "file_extension": ".py",
      "mimetype": "text/x-python",
      "name": "python",
      "nbconvert_exporter": "python",
      "pygments_lexer": "ipython3",
      "version": "3.12.9"
    }
  },
  "nbformat": 4,
  "nbformat_minor": 0
}